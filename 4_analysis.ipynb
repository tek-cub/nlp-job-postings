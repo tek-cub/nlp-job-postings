{
 "cells": [
  {
   "cell_type": "markdown",
   "id": "a48c85a2",
   "metadata": {},
   "source": [
    "<span style=\"font-size: 120%\">Analyze the difference/similarity between user's resume \n",
    "and the clusters created in previous notebook<br> <i>3_clustering.ipynb</i>.\n",
    "Allowing one to concieve of improvements to their marketable skill set or credentials.</span>\n"
   ]
  },
  {
   "cell_type": "code",
   "execution_count": 1,
   "id": "64f56824",
   "metadata": {},
   "outputs": [],
   "source": [
    "from sklearn.feature_extraction.text import TfidfVectorizer\n",
    "from sklearn.decomposition           import TruncatedSVD\n",
    "from sklearn.metrics.pairwise        import cosine_similarity \n",
    "\n",
    "%matplotlib inline\n",
    "from matplotlib import pyplot as plt\n",
    "import pandas as pd\n",
    "import numpy  as np\n",
    "\n",
    "import json\n",
    "import pickle\n",
    "import random\n"
   ]
  },
  {
   "cell_type": "code",
   "execution_count": 2,
   "id": "1e01b0f4",
   "metadata": {},
   "outputs": [
    {
     "data": {
      "text/plain": [
       "5"
      ]
     },
     "execution_count": 2,
     "metadata": {},
     "output_type": "execute_result"
    }
   ],
   "source": [
    "k = None\n",
    "with open('config.json') as f:\n",
    "    k = json.load(f)['k_hyperparam']\n",
    "k"
   ]
  },
  {
   "cell_type": "code",
   "execution_count": 3,
   "id": "b36f5fcc",
   "metadata": {},
   "outputs": [
    {
     "name": "stdout",
     "output_type": "stream",
     "text": [
      "(1465, 2)\n",
      "                                            li_elems  cluster\n",
      "0  Take high-level project requirements and formu...        1\n",
      "1  Take business requirements from the various pr...        1\n",
      "2  Meet with decision makers, systems owners, and...        1\n",
      "3  Design and implement methods for the ongoing m...        1\n",
      "4  Report on prediction accuracy, model stability...        1\n"
     ]
    }
   ],
   "source": [
    "# manually enter bullet points on user's resume \n",
    "resume_bullets = \"\"\"\n",
    "C/C++, Python, SQL, Regex\n",
    "Bash shell, Git and its hosting services, Visual Studio, Catch2 testing framework, Jupyter Notebook,\n",
    "Ubuntu/Linux, Windows, \n",
    "Test-Driven Development and Unit Testing, Unsupervised Learning\n",
    "Applied Mathematics, introductory courses in linear algebra, calculus, and statistics\n",
    "computer science electives, including first course in data structures & algorithms\"\"\"\n",
    "\n",
    "# combine cluster data with assigned cluster\n",
    "\n",
    "job_reqs = None\n",
    "with open('data/job_reqs_list.pkl', 'rb') as f:\n",
    "    job_reqs = pickle.load(f)\n",
    "\n",
    "# rtc: requirements-to-cluster\n",
    "rtc_df = pd.read_pickle('data/clust_labels_df.pkl', 'zip')\n",
    "rtc_df.insert(0, 'li_elems', job_reqs)\n",
    "print(rtc_df.shape)\n",
    "print(rtc_df.head())\n"
   ]
  },
  {
   "cell_type": "code",
   "execution_count": 4,
   "id": "b7686adf",
   "metadata": {},
   "outputs": [
    {
     "data": {
      "text/plain": [
       "{1: 0.07208316150214739,\n",
       " 2: 0.14326870164030406,\n",
       " 3: 0.14334650729708268,\n",
       " 4: 0.11864118732333861,\n",
       " 5: 0.14885313027189792}"
      ]
     },
     "execution_count": 4,
     "metadata": {},
     "output_type": "execute_result"
    }
   ],
   "source": [
    "# compute and store cosine similarities between user resume's skills\n",
    "# and the job requirement clusters for visualization\n",
    "\n",
    "res_clust_sim = {}\n",
    "clustered_bullets = {}\n",
    "\n",
    "for i in range(1, k+1):\n",
    "    clustered_bullets[i] = rtc_df[rtc_df['cluster'] == i]['li_elems']\n",
    "    clust = ' '.join(\n",
    "        (b for b in clustered_bullets[i]))\n",
    "    \n",
    "    vocab = TfidfVectorizer(stop_words='english')\n",
    "    vocab.fit((resume_bullets, clust))\n",
    "    \n",
    "    resume_vec = vocab.transform((resume_bullets,))\n",
    "    clust_vec = vocab.transform((clust,))\n",
    "\n",
    "    cs = cosine_similarity(resume_vec, clust_vec)\n",
    "    res_clust_sim[i] = cs[0][0]\n",
    "\n",
    "res_clust_sim"
   ]
  },
  {
   "cell_type": "code",
   "execution_count": 5,
   "id": "d035cd9f",
   "metadata": {},
   "outputs": [
    {
     "data": {
      "image/png": "[encoded data removed]",
      "text/plain": [
       "<Figure size 640x480 with 1 Axes>"
      ]
     },
     "metadata": {},
     "output_type": "display_data"
    }
   ],
   "source": [
    "res_clust_sim = dict(sorted(\n",
    "    res_clust_sim.items(), \n",
    "    key=lambda item: item[1],\n",
    "    reverse=True))\n",
    "\n",
    "plt.title('Cosine Similarity of Resume to Clusters')\n",
    "plt.xlabel('cluster')\n",
    "plt.ylabel('cosine similarity')\n",
    "plt.bar(x=res_clust_sim.keys(), height=res_clust_sim.values());"
   ]
  },
  {
   "cell_type": "markdown",
   "id": "9ad697cc",
   "metadata": {},
   "source": [
    "<span style=\"font-size: 110%\"> Besides having higher scores for each cluster, \n",
    "are there optimal outcomes with respect to peak vs uniformity<br> of the resume-to-cluster \n",
    "similarities in this situation?</span>\n",
    "\n",
    "<span style=\"font-size: 110%\">Here are some suggestions from:</span>\n",
    " - <span style=\"font-size: 110%\">thinking of what it means quantitatively</span>\n",
    " - <span style=\"font-size: 110%\">incorporating knowledge of: NLP, modern-hiring processes,\n",
    "   technologies used by employers, the compete-<br>ncies expected of people who work with data, \n",
    "   and the data science profession</span>\n",
    " \n",
    "#### **Quantitatively**\n",
    "\n",
    "<span style=\"font-size: 110%\">Since similarity (cosine) is determined by\n",
    "the angles between vectors and is negatively sloped; increasing<br> the resume's\n",
    "similarity to a cluster(s) can have the effect of decreasing it to other clusters(s),\n",
    "that is, a tradeoff<br> has to be made in that vector space. However in a different\n",
    "scenario increasing the similarity to one cluster<br> could increase the similarities to \n",
    "some or all the clusters.</span>\n",
    "\n",
    "<span style=\"font-size: 110%\">This is easily understood with 3, 2D document vectors,\n",
    "with 2 equal angles between them. Let the vector<br> in the middle be the resume document,\n",
    "hence decreasing the angle by rotating the middle vector closer to<br> one of the other two\n",
    "necessarily increases the angle between the middle vector and the vector which it's<br> now\n",
    "further away from (euclidean distance): the similarity to one cluster increases at the\n",
    "expense of the other.</span>\n",
    "\n",
    "<span style=\"font-size: 110%\">Likewise for the above example, if one of the outermost \n",
    "vectors is the resume document, decreasing the<br> angle to the middle vector would do \n",
    "the same for the other and hence increase the similarity for both of them.</span>\n",
    "\n",
    "<span style=\"font-size: 110%\">This simple 2D example can be extended by adding vectors\n",
    "to select directions and checking the effects of<br> trying to increase similarities under\n",
    "a different setup, not just to a local similarity (a cluster) but regional/global<br> similarities\n",
    "(more than one cluster).</span>\n",
    " \n",
    "<span style=\"font-size: 110%\">So depending on combinations of cardinalities and \n",
    "orientations of the cluster vectors with respect to the<br> resume vector, and the goals\n",
    "of the job seeker: one can go about trying to maximize their similarity<br> to one/group/all\n",
    "of the clusters, like a least squares algorithm would.</span>\n",
    "\n",
    "<span style=\"font-size: 110%\">However the above statements to not take into consideration the\n",
    "the clusters' cardinality differences, which<br> adds another level of complexity. That is, trying\n",
    "to add weights to clusters based off of how many data points<br> got assigned to them.</span>\n",
    "\n",
    "#### **Qualitatively**\n",
    "\n",
    "<span style=\"font-size: 110%\">It's known that employers are using algorithms/models\n",
    "to assist filtering the vast resumes they receive for<br> a single position. So it's not\n",
    "a bad idea to craft resumes with this in mind. However I perceive there is a point<br> of \n",
    "diminishing returns trying to minimize differences to a group of job descriptions.</span> \n",
    "\n",
    "<span style=\"font-size: 110%\">This is attributed to several unknowns and their changing\n",
    "nature (regarding the filter(s) being used) in any one<br> employer's hiring process,\n",
    "the limits of NLP as a useful tool, and the ability to properly sample this type of data.</span>\n",
    "\n",
    "<span style=\"font-size: 110%\">The word clouds in the <i>3_clustering.ipynb</i> notebook\n",
    "showed things that I would expect to see from my time spent<br> in the world of \n",
    "data science/analytics.</span>\n",
    "\n",
    "<span style=\"font-size: 110%\">My intuition is that applicant tracking systems, HR people,\n",
    "and hiring managers will be looking for things that<br> were not explicitly written \n",
    "in the job description. So at least having basic experience/knowledge of these words<br>\n",
    "(or n-grams), and including them on a resume, if only once, could facilitate passing a \n",
    "boolean style check from<br> a computer/human.</span>\n",
    " \n",
    "#### **In Conclusion**\n",
    " \n",
    "<span style=\"font-size: 110%\">Incorporating key terms/n-grams from the clusters to a job seeker's \n",
    "experiences and priorititizing them based<br> off a given clusters cardinality appears to be a \n",
    "sensible rule-of-thumb strategy; provided that one is aware of<br> the asymmetry towards clusters \n",
    "that contain generic soft skills as their top scoring n-grams (so devalue this<br> rule-of-thumb \n",
    "based off of that).\n",
    "\n",
    "<span style=\"font-size: 110%\">This way, skill sets, credentials, and resumes can be prioritized\n",
    "more to a given cluster(s) (related to job types<br> within data science) that represent a higher \n",
    "proportion of posted job requirements or those which are more<br> desirable to a given individual.\n",
    "While at the same time maintaining a baseline of similarity to other clusters so<br> that a resume \n",
    "is not disqualified by those who consider it too narrow.</span>\n"
   ]
  },
  {
   "cell_type": "code",
   "execution_count": 6,
   "id": "94286c15",
   "metadata": {
    "scrolled": false
   },
   "outputs": [
    {
     "name": "stdout",
     "output_type": "stream",
     "text": [
      "The top 7 words in cluster 1 are: experience, business, skills, work, ability, environment, excellent\n",
      "\n",
      "some sample job requirements or desired items:\n",
      "\n",
      "- Plan and manage engagement objectives and key deliverables using analytics processes to mitigate risks in data, modeling, validation and delivery \n",
      "\n",
      "- Ability to travel up to eighty percent of the time; Applicants must be currently authorized to work in the United States without the need for visa sponsorship now or in the future \n",
      "\n",
      "- Ability to translate very complex subject matter into understandable written and oral communications. \n",
      "\n",
      "- Coordinate activities with Aegon Global Analytics partners for knowledge sharing and process alignment. \n",
      "\n",
      "- Provide significant direction for strategic plans and product roadmaps \n",
      "\n",
      "\n",
      "\n",
      "The top 7 words in cluster 2 are: learning, machine, experience, processing, algorithms, statistical, data\n",
      "\n",
      "some sample job requirements or desired items:\n",
      "\n",
      "- Strong professional experience in feature engineering, feature selection and other practical machine learning issues, such as overfitting. \n",
      "\n",
      "- 3-5 years experience with solving real-world problems using Data Analytics, Natural Language Processing (NLP), and Machine Learning \n",
      "\n",
      "- Leverage a variety of tools and approaches to solve complex business objectives, from Statistical Natural Language Processing, Information Retrieval/Extraction, Machine Learning/Deep Learning, Image Processing, Rules Engines, Knowledge Graphs, and Semantic Search \n",
      "\n",
      "- Well versed in areas such as applied statistics, machine learning, data mining and data algorithms. \n",
      "\n",
      "- Prioritize, scope and manage machine learning projects and the corresponding key performance indicators (KPIs) for success. \n",
      "\n",
      "\n",
      "\n",
      "The top 7 words in cluster 3 are: degree, computer, science, statistics, mathematics, field, master\n",
      "\n",
      "some sample job requirements or desired items:\n",
      "\n",
      "- Bachelor’s degree in a quantitative field such as Statistics, Mathematics, Economics, Computer Science or Engineering \n",
      "\n",
      "- Master’s degree preferred \n",
      "\n",
      "- Master’s degree or higher in Computer Science, Electrical Engineering, Mathematics, Statistics, or a related field and strong knowledge of machine learning \n",
      "\n",
      "- Bachelor’s or Master’s degree in a quantitative field such as Statistics, Applied Mathematics, Physics, Engineering, Computer Science, or Economics \n",
      "\n",
      "- MSc or PhD in Statistics, Physics, Engineering, or related quantitative field \n",
      "\n",
      "\n",
      "\n",
      "The top 7 words in cluster 4 are: python, sql, experience, languages, programming, java, scala\n",
      "\n",
      "some sample job requirements or desired items:\n",
      "\n",
      "- Proficiency in R (e.g. ggplot2, cluster, dplyr, caret), Python (e.g. pandas, scikit-learn, bokeh, nltk), Spark – MLlib, H20, or other statistical tools. \n",
      "\n",
      "- Strong knowledge and high proficiency in Python (scikit learn, pandas, numpy etc.) SAS, SQL, R & MATLAB, C/C++, Jupyter Notebook \n",
      "\n",
      "- Strong experience in at least one database technology (i.e. SQL Server, Redshift, Hive, PrestoDb etc.) \n",
      "\n",
      "- Fluency in Python; Proficiency in AI related frameworks (NLTK, Spacy, Scikit-Learn, and Tensorflow); Experience with platforms (Google Cloud, Azure, and AWS); Ability to pick up new languages and technologies quickly and to work efficiently under Unix/Linux environment with experience with source code management systems like GIT; Ability to work with a variety of databases (SQL, ElasticSearch, Solr, Neo4j) \n",
      "\n",
      "- Ability to write complex SQL code \n",
      "\n",
      "\n",
      "\n",
      "The top 7 words in cluster 5 are: data, experience, science, analysis, sources, tools, business\n",
      "\n",
      "some sample job requirements or desired items:\n",
      "\n",
      "- AND minimum of two (2) years of full-time or equivalent relevant experience executing data science projects, preferably in the domains of customer behavior prediction and operations management. \n",
      "\n",
      "- Experience with big data frameworks (e.g. Hadoop, Spark, etc.) \n",
      "\n",
      "- Experience using advanced statistical and data-mining techniques such as regression, properties of distributions, and statistical tests \n",
      "\n",
      "- Contribute to all stages of data science or decision modeling projects, including problem formulation, solution development, and product deployment:\n",
      "Translate business-relevant scientific, engineering, and commercial problems into questions that may be addressed using data science.\n",
      "Design experiments and/or run simulations to generate new data in support of analytic studies.\n",
      "Retrieve and combine data from databases, data historians, and/or data lakes; there is strong emphasis on programming, particularly using scripting languages.\n",
      "Perform exploratory data analysis for quality control and improved understanding.\n",
      "Rigorously and reproducibly build, analyze, and compare statistical and/or machine learning models.\n",
      "Contextualize the results and synthesize them with existing knowledge and/or domain-specific models.\n",
      "Deploy data-analytic products to end-users and/or document data-analytic results in technical reports. \n",
      "\n",
      "- Collaborate with scientists and engineers on data collection and feature design efforts \n",
      "\n",
      "\n",
      "\n"
     ]
    }
   ],
   "source": [
    "# examine top words and sample job requirements from each cluster \n",
    "\n",
    "cw_file = open('data/clust_words.pkl', 'rb')\n",
    "clust_words = pickle.load(cw_file)\n",
    "cw_file.close()\n",
    "random.seed(0)\n",
    "\n",
    "for i in range(1, k+1):\n",
    "    fetch_num = 7\n",
    "    print(\"The top {} words in cluster {} are: {}\".format(\n",
    "        fetch_num, i, ', '.join(clust_words[i][:fetch_num])), end='\\n\\n')\n",
    "    \n",
    "    print(\"some sample job requirements or desired items:\", end='\\n\\n')\n",
    "    for j in range(5):\n",
    "        print(f\"- {random.choice(tuple(clustered_bullets[i]))} \\n\")\n",
    "    print('\\n')\n"
   ]
  }
 ],
 "metadata": {
  "kernelspec": {
   "display_name": "Python 3 (ipykernel)",
   "language": "python",
   "name": "python3"
  },
  "language_info": {
   "codemirror_mode": {
    "name": "ipython",
    "version": 3
   },
   "file_extension": ".py",
   "mimetype": "text/x-python",
   "name": "python",
   "nbconvert_exporter": "python",
   "pygments_lexer": "ipython3",
   "version": "3.6.9"
  },
  "vscode": {
   "interpreter": {
    "hash": "31f2aee4e71d21fbe5cf8b01ff0e069b9275f58929596ceb00d14d90e3e16cd6"
   }
  }
 },
 "nbformat": 4,
 "nbformat_minor": 5
}
