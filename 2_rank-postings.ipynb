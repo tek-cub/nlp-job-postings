{
 "cells": [
  {
   "cell_type": "markdown",
   "id": "0613b014",
   "metadata": {},
   "source": [
    "<span style=\"font-size: 120%\">Limits the job postings dataset to those most similar to the user's resume allowing:</span>\n",
    " - <span style=\"font-size: 120%\">faster k-means processing in the following notebook</span>\n",
    " - <span style=\"font-size: 120%\">less individual jobs postings to sift through from the\n",
    "   perspective of a job seeker</span>\n",
    "\n",
    "<span style=\"font-size: 120%\">However doing so will almost certainly change the sample\n",
    "from a statistical point of view.<br>That is, make it less representative of the \n",
    "original population, and more representative of <br>a different population given the sample\n",
    "was truncated non-arbitrarily.</span>"
   ]
  },
  {
   "cell_type": "code",
   "execution_count": 1,
   "id": "eff2e12a",
   "metadata": {},
   "outputs": [],
   "source": [
    "from sklearn.metrics.pairwise        import cosine_similarity\n",
    "from sklearn.feature_extraction.text import TfidfVectorizer\n",
    "\n",
    "%matplotlib inline\n",
    "from matplotlib import pyplot as plt\n",
    "import numpy  as np\n",
    "import pandas as pd\n",
    "\n",
    "import PyPDF2 as pp2\n",
    "\n",
    "import json\n"
   ]
  },
  {
   "cell_type": "code",
   "execution_count": 2,
   "id": "32bf7e15",
   "metadata": {},
   "outputs": [
    {
     "data": {
      "text/plain": [
       "(1, 1)"
      ]
     },
     "execution_count": 2,
     "metadata": {},
     "output_type": "execute_result"
    }
   ],
   "source": [
    "ngram_param = None\n",
    "with open('config.json') as f:\n",
    "    ngram_param = tuple(json.load(f)['ngram_range'])\n",
    "ngram_param"
   ]
  },
  {
   "cell_type": "code",
   "execution_count": 3,
   "id": "d36c50e0",
   "metadata": {},
   "outputs": [],
   "source": [
    "resume_dict = None\n",
    "with open('data/Resume_Tek-Cub.pdf', 'rb') as f:\n",
    "    page = pp2.PdfFileReader(f).getPage(0)\n",
    "    resume_dict = {'title':['resume'], 'body':[page.extractText()], 'li_elems':['']}\n",
    "    "
   ]
  },
  {
   "cell_type": "code",
   "execution_count": 4,
   "id": "b96febe8",
   "metadata": {},
   "outputs": [
    {
     "data": {
      "text/html": [
       "<div>\n",
       "<style scoped>\n",
       "    .dataframe tbody tr th:only-of-type {\n",
       "        vertical-align: middle;\n",
       "    }\n",
       "\n",
       "    .dataframe tbody tr th {\n",
       "        vertical-align: top;\n",
       "    }\n",
       "\n",
       "    .dataframe thead th {\n",
       "        text-align: right;\n",
       "    }\n",
       "</style>\n",
       "<table border=\"1\" class=\"dataframe\">\n",
       "  <thead>\n",
       "    <tr style=\"text-align: right;\">\n",
       "      <th></th>\n",
       "      <th>title</th>\n",
       "      <th>body</th>\n",
       "      <th>li_elems</th>\n",
       "    </tr>\n",
       "  </thead>\n",
       "  <tbody>\n",
       "    <tr>\n",
       "      <th>3</th>\n",
       "      <td>Senior Data Scientist - Risk Mitigation - Jers...</td>\n",
       "      <td>Senior Data Scientist - Risk Mitigation - Jers...</td>\n",
       "      <td>(3+ years of experience crafting, developing, ...</td>\n",
       "    </tr>\n",
       "    <tr>\n",
       "      <th>9</th>\n",
       "      <td>Director, Data Scientist, Natural Language Pro...</td>\n",
       "      <td>Director, Data Scientist, Natural Language Pro...</td>\n",
       "      <td>(Lead workshops, innovation sessions with clie...</td>\n",
       "    </tr>\n",
       "    <tr>\n",
       "      <th>10</th>\n",
       "      <td>eCommerce Senior Data Scientist - United States</td>\n",
       "      <td>eCommerce Senior Data Scientist - United State...</td>\n",
       "      <td>(Build machine learning systems to understand ...</td>\n",
       "    </tr>\n",
       "    <tr>\n",
       "      <th>11</th>\n",
       "      <td>Associate Scientist, Data Science - Irving, TX...</td>\n",
       "      <td>Associate Scientist, Data Science - Irving, TX...</td>\n",
       "      <td>(Research and development of new products., Pr...</td>\n",
       "    </tr>\n",
       "    <tr>\n",
       "      <th>12</th>\n",
       "      <td>Data Scientist - Seattle, WA</td>\n",
       "      <td>Data Scientist - Seattle, WA\\nA Bachelor or Ma...</td>\n",
       "      <td>(A Bachelor or Masters Degree in a highly quan...</td>\n",
       "    </tr>\n",
       "  </tbody>\n",
       "</table>\n",
       "</div>"
      ],
      "text/plain": [
       "                                                title  \\\n",
       "3   Senior Data Scientist - Risk Mitigation - Jers...   \n",
       "9   Director, Data Scientist, Natural Language Pro...   \n",
       "10    eCommerce Senior Data Scientist - United States   \n",
       "11  Associate Scientist, Data Science - Irving, TX...   \n",
       "12                       Data Scientist - Seattle, WA   \n",
       "\n",
       "                                                 body  \\\n",
       "3   Senior Data Scientist - Risk Mitigation - Jers...   \n",
       "9   Director, Data Scientist, Natural Language Pro...   \n",
       "10  eCommerce Senior Data Scientist - United State...   \n",
       "11  Associate Scientist, Data Science - Irving, TX...   \n",
       "12  Data Scientist - Seattle, WA\\nA Bachelor or Ma...   \n",
       "\n",
       "                                             li_elems  \n",
       "3   (3+ years of experience crafting, developing, ...  \n",
       "9   (Lead workshops, innovation sessions with clie...  \n",
       "10  (Build machine learning systems to understand ...  \n",
       "11  (Research and development of new products., Pr...  \n",
       "12  (A Bachelor or Masters Degree in a highly quan...  "
      ]
     },
     "execution_count": 4,
     "metadata": {},
     "output_type": "execute_result"
    }
   ],
   "source": [
    "jobs_df = pd.read_pickle('data/jobs_df.pkl', 'zip')\n",
    "jobs_df.head()"
   ]
  },
  {
   "cell_type": "code",
   "execution_count": 5,
   "id": "02ebd5ed",
   "metadata": {
    "scrolled": true
   },
   "outputs": [
    {
     "name": "stdout",
     "output_type": "stream",
     "text": [
      "(493, 3)\n"
     ]
    },
    {
     "data": {
      "text/html": [
       "<div>\n",
       "<style scoped>\n",
       "    .dataframe tbody tr th:only-of-type {\n",
       "        vertical-align: middle;\n",
       "    }\n",
       "\n",
       "    .dataframe tbody tr th {\n",
       "        vertical-align: top;\n",
       "    }\n",
       "\n",
       "    .dataframe thead th {\n",
       "        text-align: right;\n",
       "    }\n",
       "</style>\n",
       "<table border=\"1\" class=\"dataframe\">\n",
       "  <thead>\n",
       "    <tr style=\"text-align: right;\">\n",
       "      <th></th>\n",
       "      <th>title</th>\n",
       "      <th>body</th>\n",
       "      <th>li_elems</th>\n",
       "    </tr>\n",
       "  </thead>\n",
       "  <tbody>\n",
       "    <tr>\n",
       "      <th>0</th>\n",
       "      <td>resume</td>\n",
       "      <td>Tek Cub\\nFAMILIAR TECH / CONCEPTS\\nLanguages: ...</td>\n",
       "      <td></td>\n",
       "    </tr>\n",
       "    <tr>\n",
       "      <th>3</th>\n",
       "      <td>Senior Data Scientist - Risk Mitigation - Jers...</td>\n",
       "      <td>Senior Data Scientist - Risk Mitigation - Jers...</td>\n",
       "      <td>(3+ years of experience crafting, developing, ...</td>\n",
       "    </tr>\n",
       "    <tr>\n",
       "      <th>9</th>\n",
       "      <td>Director, Data Scientist, Natural Language Pro...</td>\n",
       "      <td>Director, Data Scientist, Natural Language Pro...</td>\n",
       "      <td>(Lead workshops, innovation sessions with clie...</td>\n",
       "    </tr>\n",
       "    <tr>\n",
       "      <th>10</th>\n",
       "      <td>eCommerce Senior Data Scientist - United States</td>\n",
       "      <td>eCommerce Senior Data Scientist - United State...</td>\n",
       "      <td>(Build machine learning systems to understand ...</td>\n",
       "    </tr>\n",
       "    <tr>\n",
       "      <th>11</th>\n",
       "      <td>Associate Scientist, Data Science - Irving, TX...</td>\n",
       "      <td>Associate Scientist, Data Science - Irving, TX...</td>\n",
       "      <td>(Research and development of new products., Pr...</td>\n",
       "    </tr>\n",
       "  </tbody>\n",
       "</table>\n",
       "</div>"
      ],
      "text/plain": [
       "                                                title  \\\n",
       "0                                              resume   \n",
       "3   Senior Data Scientist - Risk Mitigation - Jers...   \n",
       "9   Director, Data Scientist, Natural Language Pro...   \n",
       "10    eCommerce Senior Data Scientist - United States   \n",
       "11  Associate Scientist, Data Science - Irving, TX...   \n",
       "\n",
       "                                                 body  \\\n",
       "0   Tek Cub\\nFAMILIAR TECH / CONCEPTS\\nLanguages: ...   \n",
       "3   Senior Data Scientist - Risk Mitigation - Jers...   \n",
       "9   Director, Data Scientist, Natural Language Pro...   \n",
       "10  eCommerce Senior Data Scientist - United State...   \n",
       "11  Associate Scientist, Data Science - Irving, TX...   \n",
       "\n",
       "                                             li_elems  \n",
       "0                                                      \n",
       "3   (3+ years of experience crafting, developing, ...  \n",
       "9   (Lead workshops, innovation sessions with clie...  \n",
       "10  (Build machine learning systems to understand ...  \n",
       "11  (Research and development of new products., Pr...  "
      ]
     },
     "execution_count": 5,
     "metadata": {},
     "output_type": "execute_result"
    }
   ],
   "source": [
    "# complete the dataset by including the user's resume document \n",
    "\n",
    "dataset_df = pd.DataFrame(resume_dict).append(jobs_df)\n",
    "print(dataset_df.shape)\n",
    "dataset_df.head()"
   ]
  },
  {
   "cell_type": "code",
   "execution_count": 6,
   "id": "88fcb62b",
   "metadata": {},
   "outputs": [],
   "source": [
    "# begin using NLP techniques:\n",
    "# - use tf-idf as embedding: transform resume and dataset into tf-idf vectors\n",
    "# - use unigrams, bi-grams, ansd tri-grams\n",
    " \n",
    "# use content of job posting webpages and resume as corpus to derive vocabulary"
   ]
  },
  {
   "cell_type": "code",
   "execution_count": 7,
   "id": "7f24a5e0",
   "metadata": {},
   "outputs": [
    {
     "name": "stdout",
     "output_type": "stream",
     "text": [
      "resume vector dimensions: (1, 10035)\n",
      "jobs vector dimensions:   (492, 10035)\n"
     ]
    }
   ],
   "source": [
    "corpus = dataset_df['body']\n",
    "vocab  = TfidfVectorizer(ngram_range=ngram_param, stop_words='english')\n",
    "freq_matrix = vocab.fit_transform(corpus)\n",
    "\n",
    "resume_vec = freq_matrix[0, :]\n",
    "jobs_vec = freq_matrix[1:, :]\n",
    "\n",
    "print(f\"resume vector dimensions: {resume_vec.shape}\")\n",
    "print(f\"jobs vector dimensions:   {jobs_vec.shape}\")"
   ]
  },
  {
   "cell_type": "code",
   "execution_count": 8,
   "id": "6a32c090",
   "metadata": {
    "scrolled": true
   },
   "outputs": [
    {
     "data": {
      "text/plain": [
       "(492, 1)"
      ]
     },
     "execution_count": 8,
     "metadata": {},
     "output_type": "execute_result"
    }
   ],
   "source": [
    "# see how similar resume is to the rest of dataset\n",
    "cos_sims = cosine_similarity(jobs_vec, resume_vec)\n",
    "cos_sims.shape"
   ]
  },
  {
   "cell_type": "code",
   "execution_count": 9,
   "id": "9cf0f73e",
   "metadata": {
    "scrolled": true
   },
   "outputs": [
    {
     "name": "stdout",
     "output_type": "stream",
     "text": [
      "0.05314223398462385    0.08922963828567279    0.046371434627420036    0.11043520680240497    "
     ]
    }
   ],
   "source": [
    "# check some elements for expected results\n",
    "for i in range(4):\n",
    "    print(cos_sims[i][0], end='    ');"
   ]
  },
  {
   "cell_type": "code",
   "execution_count": 10,
   "id": "05e8b21e",
   "metadata": {},
   "outputs": [
    {
     "data": {
      "text/html": [
       "<div>\n",
       "<style scoped>\n",
       "    .dataframe tbody tr th:only-of-type {\n",
       "        vertical-align: middle;\n",
       "    }\n",
       "\n",
       "    .dataframe tbody tr th {\n",
       "        vertical-align: top;\n",
       "    }\n",
       "\n",
       "    .dataframe thead th {\n",
       "        text-align: right;\n",
       "    }\n",
       "</style>\n",
       "<table border=\"1\" class=\"dataframe\">\n",
       "  <thead>\n",
       "    <tr style=\"text-align: right;\">\n",
       "      <th></th>\n",
       "      <th>title</th>\n",
       "      <th>body</th>\n",
       "      <th>li_elems</th>\n",
       "      <th>cosine_similarity</th>\n",
       "    </tr>\n",
       "  </thead>\n",
       "  <tbody>\n",
       "    <tr>\n",
       "      <th>0</th>\n",
       "      <td>Data Scientist - Chesterfield, MO</td>\n",
       "      <td>Data Scientist - Chesterfield, MO\\nCompany Det...</td>\n",
       "      <td>(Take high-level project requirements and form...</td>\n",
       "      <td>0.127448</td>\n",
       "    </tr>\n",
       "    <tr>\n",
       "      <th>1</th>\n",
       "      <td>Data Scientist - Chesterfield, MO 63017</td>\n",
       "      <td>Data Scientist - Chesterfield, MO 63017\\nCompa...</td>\n",
       "      <td>(Take high-level project requirements and form...</td>\n",
       "      <td>0.127190</td>\n",
       "    </tr>\n",
       "    <tr>\n",
       "      <th>2</th>\n",
       "      <td>Data Science Software Engineer - San Diego, CA...</td>\n",
       "      <td>Data Science Software Engineer - San Diego, CA...</td>\n",
       "      <td>(Organize, transform, and verify the integrity...</td>\n",
       "      <td>0.126004</td>\n",
       "    </tr>\n",
       "    <tr>\n",
       "      <th>3</th>\n",
       "      <td>Data Scientist - San Francisco, CA</td>\n",
       "      <td>Data Scientist - San Francisco, CA\\nJob Descri...</td>\n",
       "      <td>(Perform hands-on analysis of large volumes of...</td>\n",
       "      <td>0.119804</td>\n",
       "    </tr>\n",
       "    <tr>\n",
       "      <th>4</th>\n",
       "      <td>Senior Data Scientist - San Francisco, CA</td>\n",
       "      <td>Senior Data Scientist - San Francisco, CA\\nJob...</td>\n",
       "      <td>(Perform hands-on analysis of large volumes of...</td>\n",
       "      <td>0.119635</td>\n",
       "    </tr>\n",
       "    <tr>\n",
       "      <th>...</th>\n",
       "      <td>...</td>\n",
       "      <td>...</td>\n",
       "      <td>...</td>\n",
       "      <td>...</td>\n",
       "    </tr>\n",
       "    <tr>\n",
       "      <th>487</th>\n",
       "      <td>Senior Data Scientist - San Francisco, CA 94111</td>\n",
       "      <td>Senior Data Scientist - San Francisco, CA 9411...</td>\n",
       "      <td>(Be a subject matter expert on all things rela...</td>\n",
       "      <td>0.030222</td>\n",
       "    </tr>\n",
       "    <tr>\n",
       "      <th>488</th>\n",
       "      <td>Post-doc: Dissemination/implementation and/or ...</td>\n",
       "      <td>Post-doc: Dissemination/implementation and/or ...</td>\n",
       "      <td>()</td>\n",
       "      <td>0.028809</td>\n",
       "    </tr>\n",
       "    <tr>\n",
       "      <th>489</th>\n",
       "      <td>Data Scientist - West Lafayette, IN 47906</td>\n",
       "      <td>Data Scientist - West Lafayette, IN 47906\\nDTN...</td>\n",
       "      <td>(Gain experience in all areas of data science,...</td>\n",
       "      <td>0.028500</td>\n",
       "    </tr>\n",
       "    <tr>\n",
       "      <th>490</th>\n",
       "      <td>Professor of Data Sciences and Operations (Ope...</td>\n",
       "      <td>Professor of Data Sciences and Operations (Ope...</td>\n",
       "      <td>()</td>\n",
       "      <td>0.019954</td>\n",
       "    </tr>\n",
       "    <tr>\n",
       "      <th>491</th>\n",
       "      <td>Part-time instructor of Statistics for Data Sc...</td>\n",
       "      <td>Part-time instructor of Statistics for Data Sc...</td>\n",
       "      <td>()</td>\n",
       "      <td>0.013871</td>\n",
       "    </tr>\n",
       "  </tbody>\n",
       "</table>\n",
       "<p>492 rows × 4 columns</p>\n",
       "</div>"
      ],
      "text/plain": [
       "                                                 title  \\\n",
       "0                    Data Scientist - Chesterfield, MO   \n",
       "1              Data Scientist - Chesterfield, MO 63017   \n",
       "2    Data Science Software Engineer - San Diego, CA...   \n",
       "3                   Data Scientist - San Francisco, CA   \n",
       "4            Senior Data Scientist - San Francisco, CA   \n",
       "..                                                 ...   \n",
       "487    Senior Data Scientist - San Francisco, CA 94111   \n",
       "488  Post-doc: Dissemination/implementation and/or ...   \n",
       "489          Data Scientist - West Lafayette, IN 47906   \n",
       "490  Professor of Data Sciences and Operations (Ope...   \n",
       "491  Part-time instructor of Statistics for Data Sc...   \n",
       "\n",
       "                                                  body  \\\n",
       "0    Data Scientist - Chesterfield, MO\\nCompany Det...   \n",
       "1    Data Scientist - Chesterfield, MO 63017\\nCompa...   \n",
       "2    Data Science Software Engineer - San Diego, CA...   \n",
       "3    Data Scientist - San Francisco, CA\\nJob Descri...   \n",
       "4    Senior Data Scientist - San Francisco, CA\\nJob...   \n",
       "..                                                 ...   \n",
       "487  Senior Data Scientist - San Francisco, CA 9411...   \n",
       "488  Post-doc: Dissemination/implementation and/or ...   \n",
       "489  Data Scientist - West Lafayette, IN 47906\\nDTN...   \n",
       "490  Professor of Data Sciences and Operations (Ope...   \n",
       "491  Part-time instructor of Statistics for Data Sc...   \n",
       "\n",
       "                                              li_elems  cosine_similarity  \n",
       "0    (Take high-level project requirements and form...           0.127448  \n",
       "1    (Take high-level project requirements and form...           0.127190  \n",
       "2    (Organize, transform, and verify the integrity...           0.126004  \n",
       "3    (Perform hands-on analysis of large volumes of...           0.119804  \n",
       "4    (Perform hands-on analysis of large volumes of...           0.119635  \n",
       "..                                                 ...                ...  \n",
       "487  (Be a subject matter expert on all things rela...           0.030222  \n",
       "488                                                 ()           0.028809  \n",
       "489  (Gain experience in all areas of data science,...           0.028500  \n",
       "490                                                 ()           0.019954  \n",
       "491                                                 ()           0.013871  \n",
       "\n",
       "[492 rows x 4 columns]"
      ]
     },
     "execution_count": 10,
     "metadata": {},
     "output_type": "execute_result"
    }
   ],
   "source": [
    "# match job postings with their respective similarities\n",
    "jobs_df['cosine_similarity'] = cos_sims\n",
    "sorted_jobs_df = jobs_df.sort_values(by='cosine_similarity', ascending=False)\n",
    "sorted_jobs_df = sorted_jobs_df.reset_index(drop=True)\n",
    "sorted_jobs_df"
   ]
  },
  {
   "cell_type": "code",
   "execution_count": 11,
   "id": "12a2a24b",
   "metadata": {},
   "outputs": [
    {
     "data": {
      "image/png": "[encoded data removed]",
      "text/plain": [
       "<Figure size 1000x600 with 1 Axes>"
      ]
     },
     "metadata": {},
     "output_type": "display_data"
    }
   ],
   "source": [
    "plt.figure(figsize=(10, 6))\n",
    "plt.title('Cosine Similarity of Job Postings to Resume')\n",
    "plt.xlabel('job postings quantity')\n",
    "plt.ylabel('cosine similarity')\n",
    "plt.axvline(x=80, color='purple')\n",
    "\n",
    "sorted_jobs_df['cosine_similarity'].plot();"
   ]
  },
  {
   "cell_type": "code",
   "execution_count": 12,
   "id": "4d36e0bc",
   "metadata": {},
   "outputs": [],
   "source": [
    "# intuiting from chart's slope: save the first 80 most similar job postings\n",
    "pd.DataFrame(sorted_jobs_df[:80]).to_pickle('data/sorted_trunc_jobs_df.pkl', 'zip')"
   ]
  }
 ],
 "metadata": {
  "kernelspec": {
   "display_name": "Python 3 (ipykernel)",
   "language": "python",
   "name": "python3"
  },
  "language_info": {
   "codemirror_mode": {
    "name": "ipython",
    "version": 3
   },
   "file_extension": ".py",
   "mimetype": "text/x-python",
   "name": "python",
   "nbconvert_exporter": "python",
   "pygments_lexer": "ipython3",
   "version": "3.6.9"
  },
  "vscode": {
   "interpreter": {
    "hash": "31f2aee4e71d21fbe5cf8b01ff0e069b9275f58929596ceb00d14d90e3e16cd6"
   }
  }
 },
 "nbformat": 4,
 "nbformat_minor": 5
}
